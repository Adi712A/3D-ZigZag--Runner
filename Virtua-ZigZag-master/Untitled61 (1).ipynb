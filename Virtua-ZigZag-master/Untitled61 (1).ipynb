{
 "cells": [
  {
   "cell_type": "code",
   "execution_count": 8,
   "id": "936538f7-2631-493f-8b9b-2d78b001ac74",
   "metadata": {},
   "outputs": [
    {
     "name": "stdout",
     "output_type": "stream",
     "text": [
      "Mean Squared Error: 70.40199321722258\n",
      "Predicted rank for score 200: -338.0869295306534\n",
      "     Player  Score  Predicted Rank\n",
      "244  Player    149       -4.964921\n",
      "663  Player    149       -4.964921\n",
      "881  Player    149       -4.964921\n",
      "901  Player    149       -4.964921\n",
      "372  Player    148        1.566884\n",
      "..      ...    ...             ...\n",
      "488  Player      0      968.273890\n",
      "117  Player      0      968.273890\n",
      "851  Player      0      968.273890\n",
      "938  Player      0      968.273890\n",
      "849  Player      0      968.273890\n",
      "\n",
      "[1000 rows x 3 columns]\n"
     ]
    },
    {
     "name": "stderr",
     "output_type": "stream",
     "text": [
      "C:\\Users\\adity\\anaconda3\\Lib\\site-packages\\sklearn\\base.py:493: UserWarning: X does not have valid feature names, but LinearRegression was fitted with feature names\n",
      "  warnings.warn(\n"
     ]
    }
   ],
   "source": [
    "import pandas as pd\n",
    "import numpy as np\n",
    "from sklearn.model_selection import train_test_split\n",
    "from sklearn.linear_model import LinearRegression\n",
    "from sklearn.metrics import mean_squared_error\n",
    "\n",
    "# Step 1: Load the data\n",
    "file_path = r\"D:\\Virtua-ZigZag-master (1)\\Virtua-ZigZag-master\\PlayerScore.csv\"\n",
    "df = pd.read_csv(file_path)\n",
    "\n",
    "# Step 2: Prepare the data\n",
    "# Strip any extra spaces in column names\n",
    "df.columns = df.columns.str.strip()\n",
    "\n",
    "# Rank players based on score (higher score = better rank)\n",
    "df['Rank'] = df['Score'].rank(ascending=False, method='min')\n",
    "\n",
    "# Step 3: Split data into features (X) and target (y)\n",
    "X = df[['Score']]  # Feature: Score\n",
    "y = df['Rank']     # Target: Rank\n",
    "\n",
    "# Step 4: Split the data into training and test sets\n",
    "X_train, X_test, y_train, y_test = train_test_split(X, y, test_size=0.2, random_state=42)\n",
    "\n",
    "# Step 5: Train the model (Linear Regression for this case)\n",
    "model = LinearRegression()\n",
    "model.fit(X_train, y_train)\n",
    "\n",
    "# Step 6: Make predictions\n",
    "y_pred = model.predict(X_test)\n",
    "\n",
    "# Step 7: Evaluate the model\n",
    "mse = mean_squared_error(y_test, y_pred)\n",
    "print(f\"Mean Squared Error: {mse}\")\n",
    "\n",
    "# Step 8: Predict rank for a new score (example)\n",
    "new_score = np.array([[200]])  # Example: Predict rank for a score of 200\n",
    "predicted_rank = model.predict(new_score)\n",
    "print(f\"Predicted rank for score 200: {predicted_rank[0]}\")\n",
    "\n",
    "# You can also sort players based on their predicted rank:\n",
    "df['Predicted Rank'] = model.predict(X)\n",
    "df_sorted = df.sort_values(by='Predicted Rank')\n",
    "print(df_sorted[['Player', 'Score', 'Predicted Rank']])\n"
   ]
  },
  {
   "cell_type": "code",
   "execution_count": 9,
   "id": "2d00ae32-15d8-4db1-b742-a883006a80f5",
   "metadata": {},
   "outputs": [
    {
     "name": "stdout",
     "output_type": "stream",
     "text": [
      "Random Forest Classification Report:\n",
      "              precision    recall  f1-score   support\n",
      "\n",
      "           0       1.00      1.00      1.00         5\n",
      "           1       1.00      1.00      1.00         5\n",
      "           2       1.00      1.00      1.00         4\n",
      "           3       1.00      1.00      1.00       207\n",
      "\n",
      "    accuracy                           1.00       221\n",
      "   macro avg       1.00      1.00      1.00       221\n",
      "weighted avg       1.00      1.00      1.00       221\n",
      "\n"
     ]
    }
   ],
   "source": [
    "import pandas as pd\n",
    "from sklearn.model_selection import train_test_split\n",
    "from sklearn.ensemble import RandomForestClassifier\n",
    "from sklearn.preprocessing import LabelEncoder\n",
    "from sklearn.metrics import classification_report\n",
    "\n",
    "# Load dataset\n",
    "file_path = r\"D:\\Virtua-ZigZag-master (1)\\Virtua-ZigZag-master\\PlayerScore.csv\"\n",
    "data = pd.read_csv(file_path)\n",
    "\n",
    "# Categorize scores into \"low,\" \"medium,\" \"high\"\n",
    "data['Performance'] = pd.cut(data['Score'], bins=[0, 3, 7, 10], labels=['low', 'medium', 'high'])\n",
    "\n",
    "# Encode labels\n",
    "le = LabelEncoder()\n",
    "data['Performance'] = le.fit_transform(data['Performance'])\n",
    "\n",
    "# Split data\n",
    "X = data[['Score']]  # Features\n",
    "y = data['Performance']  # Target labels\n",
    "X_train, X_test, y_train, y_test = train_test_split(X, y, test_size=0.2, random_state=42)\n",
    "\n",
    "# Initialize and train the Random Forest model\n",
    "rf_model = RandomForestClassifier(random_state=42)\n",
    "rf_model.fit(X_train, y_train)\n",
    "\n",
    "# Predictions\n",
    "y_pred_rf = rf_model.predict(X_test)\n",
    "\n",
    "# Evaluate\n",
    "print(\"Random Forest Classification Report:\")\n",
    "print(classification_report(y_test, y_pred_rf))\n"
   ]
  },
  {
   "cell_type": "code",
   "execution_count": 14,
   "id": "b2443af6-5357-4cb6-a236-cef97c9ae5bf",
   "metadata": {},
   "outputs": [
    {
     "name": "stdout",
     "output_type": "stream",
     "text": [
      "SVM Classification Report:\n",
      "              precision    recall  f1-score   support\n",
      "\n",
      "           0       1.00      0.80      0.89         5\n",
      "           1       0.71      1.00      0.83         5\n",
      "           2       1.00      1.00      1.00         4\n",
      "           3       1.00      0.99      0.99       207\n",
      "\n",
      "    accuracy                           0.99       221\n",
      "   macro avg       0.93      0.95      0.93       221\n",
      "weighted avg       0.99      0.99      0.99       221\n",
      "\n"
     ]
    }
   ],
   "source": [
    "import pandas as pd\n",
    "from sklearn.model_selection import train_test_split\n",
    "from sklearn.preprocessing import LabelEncoder\n",
    "from sklearn.metrics import classification_report\n",
    "from sklearn.svm import SVC\n",
    "\n",
    "# Load dataset\n",
    "file_path = r\"D:\\Virtua-ZigZag-master (1)\\Virtua-ZigZag-master\\PlayerScore.csv\"\n",
    "data = pd.read_csv(file_path)\n",
    "\n",
    "# Categorize scores into \"low,\" \"medium,\" \"high\"\n",
    "data['Performance'] = pd.cut(data['Score'], bins=[0, 3, 7, 10], labels=['low', 'medium', 'high'])\n",
    "\n",
    "# Encode labels\n",
    "le = LabelEncoder()\n",
    "data['Performance'] = le.fit_transform(data['Performance'])\n",
    "\n",
    "# Split data\n",
    "X = data[['Score']]\n",
    "y = data['Performance']\n",
    "X_train, X_test, y_train, y_test = train_test_split(X, y, test_size=0.2, random_state=42)\n",
    "\n",
    "# Initialize and train the SVM model\n",
    "svm_model = SVC(kernel='linear', random_state=42)\n",
    "svm_model.fit(X_train, y_train)\n",
    "\n",
    "# Predictions\n",
    "y_pred_svm = svm_model.predict(X_test)\n",
    "\n",
    "# Evaluate\n",
    "print(\"SVM Classification Report:\")\n",
    "print(classification_report(y_test, y_pred_svm))\n"
   ]
  },
  {
   "cell_type": "code",
   "execution_count": 15,
   "id": "c374e425-199c-4575-b785-72b0523289c4",
   "metadata": {},
   "outputs": [
    {
     "name": "stdout",
     "output_type": "stream",
     "text": [
      "KNN Classification Report:\n",
      "              precision    recall  f1-score   support\n",
      "\n",
      "           0       0.50      1.00      0.67         5\n",
      "           1       1.00      1.00      1.00         5\n",
      "           2       1.00      1.00      1.00         4\n",
      "           3       1.00      0.98      0.99       207\n",
      "\n",
      "    accuracy                           0.98       221\n",
      "   macro avg       0.88      0.99      0.91       221\n",
      "weighted avg       0.99      0.98      0.98       221\n",
      "\n"
     ]
    }
   ],
   "source": [
    "import pandas as pd\n",
    "from sklearn.model_selection import train_test_split\n",
    "from sklearn.preprocessing import LabelEncoder\n",
    "from sklearn.metrics import classification_report\n",
    "from sklearn.neighbors import KNeighborsClassifier\n",
    "\n",
    "# Load dataset\n",
    "file_path = r\"D:\\Virtua-ZigZag-master (1)\\Virtua-ZigZag-master\\PlayerScore.csv\"\n",
    "data = pd.read_csv(file_path)\n",
    "\n",
    "# Categorize scores into \"low,\" \"medium,\" \"high\"\n",
    "data['Performance'] = pd.cut(data['Score'], bins=[0, 3, 7, 10], labels=['low', 'medium', 'high'])\n",
    "\n",
    "# Encode labels\n",
    "le = LabelEncoder()\n",
    "data['Performance'] = le.fit_transform(data['Performance'])\n",
    "\n",
    "# Split data\n",
    "X = data[['Score']]\n",
    "y = data['Performance']\n",
    "X_train, X_test, y_train, y_test = train_test_split(X, y, test_size=0.2, random_state=42)\n",
    "\n",
    "# Initialize and train the KNN model\n",
    "knn_model = KNeighborsClassifier(n_neighbors=5)\n",
    "knn_model.fit(X_train, y_train)\n",
    "\n",
    "# Predictions\n",
    "y_pred_knn = knn_model.predict(X_test)\n",
    "\n",
    "# Evaluate\n",
    "print(\"KNN Classification Report:\")\n",
    "print(classification_report(y_test, y_pred_knn))\n"
   ]
  },
  {
   "cell_type": "code",
   "execution_count": 16,
   "id": "27aa99d6-f125-4ef0-ae19-497832b1d912",
   "metadata": {},
   "outputs": [
    {
     "name": "stdout",
     "output_type": "stream",
     "text": [
      "Neural Network Classification Report:\n",
      "              precision    recall  f1-score   support\n",
      "\n",
      "           0       1.00      1.00      1.00         5\n",
      "           1       1.00      1.00      1.00         5\n",
      "           2       1.00      1.00      1.00         4\n",
      "           3       1.00      1.00      1.00       207\n",
      "\n",
      "    accuracy                           1.00       221\n",
      "   macro avg       1.00      1.00      1.00       221\n",
      "weighted avg       1.00      1.00      1.00       221\n",
      "\n"
     ]
    },
    {
     "name": "stderr",
     "output_type": "stream",
     "text": [
      "C:\\Users\\adity\\anaconda3\\Lib\\site-packages\\sklearn\\neural_network\\_multilayer_perceptron.py:691: ConvergenceWarning: Stochastic Optimizer: Maximum iterations (300) reached and the optimization hasn't converged yet.\n",
      "  warnings.warn(\n"
     ]
    }
   ],
   "source": [
    "import pandas as pd\n",
    "from sklearn.model_selection import train_test_split\n",
    "from sklearn.preprocessing import LabelEncoder\n",
    "from sklearn.metrics import classification_report\n",
    "from sklearn.neural_network import MLPClassifier\n",
    "\n",
    "# Load dataset\n",
    "file_path = r\"D:\\Virtua-ZigZag-master (1)\\Virtua-ZigZag-master\\PlayerScore.csv\"\n",
    "data = pd.read_csv(file_path)\n",
    "\n",
    "# Categorize scores into \"low,\" \"medium,\" \"high\"\n",
    "data['Performance'] = pd.cut(data['Score'], bins=[0, 3, 7, 10], labels=['low', 'medium', 'high'])\n",
    "\n",
    "# Encode labels\n",
    "le = LabelEncoder()\n",
    "data['Performance'] = le.fit_transform(data['Performance'])\n",
    "\n",
    "# Split data\n",
    "X = data[['Score']]\n",
    "y = data['Performance']\n",
    "X_train, X_test, y_train, y_test = train_test_split(X, y, test_size=0.2, random_state=42)\n",
    "\n",
    "# Initialize and train the Neural Network model\n",
    "mlp_model = MLPClassifier(hidden_layer_sizes=(50, 25), max_iter=300, random_state=42)\n",
    "mlp_model.fit(X_train, y_train)\n",
    "\n",
    "# Predictions\n",
    "y_pred_mlp = mlp_model.predict(X_test)\n",
    "\n",
    "# Evaluate\n",
    "print(\"Neural Network Classification Report:\")\n",
    "print(classification_report(y_test, y_pred_mlp))\n"
   ]
  },
  {
   "cell_type": "code",
   "execution_count": 18,
   "id": "c2194da1-a545-4402-b43c-ba791dc358b7",
   "metadata": {},
   "outputs": [
    {
     "name": "stdout",
     "output_type": "stream",
     "text": [
      "Logistic Regression Classification Report:\n",
      "              precision    recall  f1-score   support\n",
      "\n",
      "           0       0.00      0.00      0.00         5\n",
      "           1       0.50      0.40      0.44         5\n",
      "           2       0.57      1.00      0.73         4\n",
      "           3       0.98      0.99      0.98       207\n",
      "\n",
      "    accuracy                           0.95       221\n",
      "   macro avg       0.51      0.60      0.54       221\n",
      "weighted avg       0.94      0.95      0.94       221\n",
      "\n"
     ]
    },
    {
     "name": "stderr",
     "output_type": "stream",
     "text": [
      "C:\\Users\\adity\\anaconda3\\Lib\\site-packages\\sklearn\\metrics\\_classification.py:1509: UndefinedMetricWarning: Precision is ill-defined and being set to 0.0 in labels with no predicted samples. Use `zero_division` parameter to control this behavior.\n",
      "  _warn_prf(average, modifier, f\"{metric.capitalize()} is\", len(result))\n",
      "C:\\Users\\adity\\anaconda3\\Lib\\site-packages\\sklearn\\metrics\\_classification.py:1509: UndefinedMetricWarning: Precision is ill-defined and being set to 0.0 in labels with no predicted samples. Use `zero_division` parameter to control this behavior.\n",
      "  _warn_prf(average, modifier, f\"{metric.capitalize()} is\", len(result))\n",
      "C:\\Users\\adity\\anaconda3\\Lib\\site-packages\\sklearn\\metrics\\_classification.py:1509: UndefinedMetricWarning: Precision is ill-defined and being set to 0.0 in labels with no predicted samples. Use `zero_division` parameter to control this behavior.\n",
      "  _warn_prf(average, modifier, f\"{metric.capitalize()} is\", len(result))\n"
     ]
    }
   ],
   "source": [
    "import pandas as pd\n",
    "from sklearn.model_selection import train_test_split\n",
    "from sklearn.linear_model import LogisticRegression\n",
    "from sklearn.preprocessing import LabelEncoder\n",
    "from sklearn.metrics import classification_report\n",
    "\n",
    "# Load dataset\n",
    "file_path = r\"D:\\Virtua-ZigZag-master (1)\\Virtua-ZigZag-master\\PlayerScore.csv\"\n",
    "data = pd.read_csv(file_path)\n",
    "\n",
    "# Categorize scores into \"low,\" \"medium,\" \"high\"\n",
    "data['Performance'] = pd.cut(data['Score'], bins=[0, 3, 7, 10], labels=['low', 'medium', 'high'])\n",
    "\n",
    "# Encode labels\n",
    "le = LabelEncoder()\n",
    "data['Performance'] = le.fit_transform(data['Performance'])\n",
    "\n",
    "# Split data\n",
    "X = data[['Score']]  # Features (you can expand with more metrics)\n",
    "y = data['Performance']  # Target labels\n",
    "X_train, X_test, y_train, y_test = train_test_split(X, y, test_size=0.2, random_state=42)\n",
    "\n",
    "# Initialize and train the Logistic Regression model\n",
    "logreg_model = LogisticRegression(random_state=42)\n",
    "logreg_model.fit(X_train, y_train)\n",
    "\n",
    "# Predictions\n",
    "y_pred_logreg = logreg_model.predict(X_test)\n",
    "\n",
    "# Evaluate\n",
    "print(\"Logistic Regression Classification Report:\")\n",
    "print(classification_report(y_test, y_pred_logreg))\n"
   ]
  },
  {
   "cell_type": "code",
   "execution_count": 19,
   "id": "54c14899-3a6c-4401-8328-505e86e0e974",
   "metadata": {},
   "outputs": [
    {
     "name": "stderr",
     "output_type": "stream",
     "text": [
      "C:\\Users\\adity\\anaconda3\\Lib\\site-packages\\sklearn\\metrics\\_classification.py:1509: UndefinedMetricWarning: Precision is ill-defined and being set to 0.0 in labels with no predicted samples. Use `zero_division` parameter to control this behavior.\n",
      "  _warn_prf(average, modifier, f\"{metric.capitalize()} is\", len(result))\n"
     ]
    },
    {
     "name": "stdout",
     "output_type": "stream",
     "text": [
      "Model Performance Comparison:\n",
      "                 Model  Accuracy  Precision    Recall  F1-Score\n",
      "0        Random Forest  1.000000   1.000000  1.000000  1.000000\n",
      "1  Logistic Regression  0.954751   0.936005  0.954751  0.944147\n",
      "2                  SVM  0.986425   0.988989  0.986425  0.986912\n",
      "3                  KNN  0.977376   0.988688  0.977376  0.981008\n",
      "4   MLP Neural Network  0.977376   0.988688  0.977376  0.981008\n"
     ]
    }
   ],
   "source": [
    "import pandas as pd\n",
    "from sklearn.model_selection import train_test_split\n",
    "from sklearn.ensemble import RandomForestClassifier\n",
    "from sklearn.linear_model import LogisticRegression\n",
    "from sklearn.svm import SVC\n",
    "from sklearn.neighbors import KNeighborsClassifier\n",
    "from sklearn.neural_network import MLPClassifier\n",
    "from sklearn.metrics import accuracy_score, precision_recall_fscore_support\n",
    "from sklearn.preprocessing import LabelEncoder\n",
    "\n",
    "# Load dataset\n",
    "file_path = r\"D:\\Virtua-ZigZag-master (1)\\Virtua-ZigZag-master\\PlayerScore.csv\"\n",
    "data = pd.read_csv(file_path)\n",
    "\n",
    "# Categorize scores into \"low,\" \"medium,\" \"high\"\n",
    "data['Performance'] = pd.cut(data['Score'], bins=[0, 3, 7, 10], labels=['low', 'medium', 'high'])\n",
    "\n",
    "# Encode labels\n",
    "le = LabelEncoder()\n",
    "data['Performance'] = le.fit_transform(data['Performance'])\n",
    "\n",
    "# Split data\n",
    "X = data[['Score']]  # Features (you can expand with more metrics)\n",
    "y = data['Performance']  # Target labels\n",
    "X_train, X_test, y_train, y_test = train_test_split(X, y, test_size=0.2, random_state=42)\n",
    "\n",
    "# Initialize models\n",
    "models = {\n",
    "    'Random Forest': RandomForestClassifier(random_state=42),\n",
    "    'Logistic Regression': LogisticRegression(random_state=42),\n",
    "    'SVM': SVC(kernel='linear', random_state=42),\n",
    "    'KNN': KNeighborsClassifier(n_neighbors=5),\n",
    "    'MLP Neural Network': MLPClassifier(random_state=42, max_iter=1000)  # MLP Classifier\n",
    "}\n",
    "\n",
    "# Dictionary to hold the results\n",
    "results = []\n",
    "\n",
    "# Training, predicting, and storing metrics for each model\n",
    "for model_name, model in models.items():\n",
    "    model.fit(X_train, y_train)\n",
    "    y_pred = model.predict(X_test)\n",
    "    \n",
    "    # Calculate accuracy, precision, recall, and F1-score\n",
    "    accuracy = accuracy_score(y_test, y_pred)\n",
    "    precision, recall, f1, _ = precision_recall_fscore_support(y_test, y_pred, average='weighted')\n",
    "    \n",
    "    # Append model results\n",
    "    results.append({\n",
    "        'Model': model_name,\n",
    "        'Accuracy': accuracy,\n",
    "        'Precision': precision,\n",
    "        'Recall': recall,\n",
    "        'F1-Score': f1\n",
    "    })\n",
    "\n",
    "# Convert results into a DataFrame for better visualization\n",
    "results_df = pd.DataFrame(results)\n",
    "\n",
    "# Display the comparison table\n",
    "print(\"Model Performance Comparison:\")\n",
    "print(results_df)\n"
   ]
  },
  {
   "cell_type": "code",
   "execution_count": 22,
   "id": "3df1c784-6f02-4b08-9503-89671e0e4127",
   "metadata": {},
   "outputs": [
    {
     "name": "stdout",
     "output_type": "stream",
     "text": [
      "     Player  Score\n",
      "244  Player    149\n",
      "663  Player    149\n",
      "901  Player    149\n",
      "881  Player    149\n",
      "558  Player    148\n"
     ]
    }
   ],
   "source": [
    "import pandas as pd\n",
    "\n",
    "# Load the data\n",
    "file_path = r\"D:\\Virtua-ZigZag-master (1)\\Virtua-ZigZag-master\\PlayerScore.csv\"\n",
    "df = pd.read_csv(file_path)\n",
    "\n",
    "# Strip any extra spaces in column names\n",
    "df.columns = df.columns.str.strip()\n",
    "\n",
    "# Sort the DataFrame by the 'Score' column in descending order\n",
    "df_sorted = df.sort_values(by='Score', ascending=False)\n",
    "\n",
    "# Get the top 5 or top 10 players\n",
    "top_n = 5  # Change this value to 10 for the top 10 players\n",
    "top_players = df_sorted.head(top_n)\n",
    "\n",
    "# Print the top players\n",
    "print(top_players[['Player', 'Score']])\n"
   ]
  },
  {
   "cell_type": "code",
   "execution_count": 23,
   "id": "c2197b42-3cd3-4ea6-92fd-02b4d02eeb56",
   "metadata": {},
   "outputs": [
    {
     "name": "stdout",
     "output_type": "stream",
     "text": [
      "Model saved as mlp_model.pkl\n"
     ]
    }
   ],
   "source": [
    "import joblib\n",
    "from sklearn.neural_network import MLPClassifier  # Replace with your model\n",
    "\n",
    "# Assuming you have a trained MLP model (replace with your actual trained model)\n",
    "model = MLPClassifier(random_state=42)  # Example placeholder, replace with your model\n",
    "\n",
    "# Save the model to a .pkl file (joblib format)\n",
    "model_filename = 'mlp_model.pkl'\n",
    "joblib.dump(model, model_filename)\n",
    "\n",
    "print(f\"Model saved as {model_filename}\")\n"
   ]
  },
  {
   "cell_type": "code",
   "execution_count": 25,
   "id": "4bd6167b-355d-4ab9-a819-cd77687232bb",
   "metadata": {},
   "outputs": [
    {
     "name": "stdout",
     "output_type": "stream",
     "text": [
      "Model saved successfully.\n"
     ]
    }
   ],
   "source": [
    "import pandas as pd\n",
    "from sklearn.model_selection import train_test_split\n",
    "from sklearn.neural_network import MLPClassifier\n",
    "import joblib\n",
    "\n",
    "# Load the dataset\n",
    "file_path = r\"D:\\Virtua-ZigZag-master (1)\\Virtua-ZigZag-master\\PlayerScore.csv\"\n",
    "df = pd.read_csv(file_path)\n",
    "\n",
    "# Function to categorize the player's level based on the score\n",
    "def categorize_player(row):\n",
    "    if row['Score'] >= 30:\n",
    "        return 'advanced'\n",
    "    elif row['Score'] >= 15:\n",
    "        return 'intermediate'\n",
    "    else:\n",
    "        return 'beginner'\n",
    "\n",
    "# Apply the function to create a new 'Level' column\n",
    "df['Level'] = df.apply(categorize_player, axis=1)\n",
    "\n",
    "# Features (Score) and target (Level)\n",
    "X = df[['Score']]\n",
    "y = df['Level']\n",
    "\n",
    "# Split the data into train and test sets\n",
    "X_train, X_test, y_train, y_test = train_test_split(X, y, test_size=0.2, random_state=42)\n",
    "\n",
    "# Initialize and train the model (replace with your own model if needed)\n",
    "model = MLPClassifier(random_state=42, max_iter=1000)\n",
    "model.fit(X_train, y_train)\n",
    "\n",
    "# Save the model\n",
    "model_filename = r\"C:\\Users\\adity\\Downloads\\mlp_model.pkl\"\n",
    "joblib.dump(model, model_filename)\n",
    "\n",
    "print(\"Model saved successfully.\")\n"
   ]
  },
  {
   "cell_type": "code",
   "execution_count": 27,
   "id": "ff908c85-f61c-4a96-a390-e29782a38277",
   "metadata": {},
   "outputs": [
    {
     "name": "stdout",
     "output_type": "stream",
     "text": [
      "Index(['Player', 'Score'], dtype='object')\n",
      "    Player  Score\n",
      "0  Player1      4\n",
      "1  Player1      4\n",
      "2  Player1      4\n",
      "3  Player1      7\n",
      "4  Player1      1\n"
     ]
    },
    {
     "name": "stdin",
     "output_type": "stream",
     "text": [
      "Enter your score:  5\n"
     ]
    },
    {
     "name": "stdout",
     "output_type": "stream",
     "text": [
      "Your rank is: 957 out of 1002 players\n"
     ]
    },
    {
     "name": "stderr",
     "output_type": "stream",
     "text": [
      "C:\\Users\\adity\\anaconda3\\Lib\\site-packages\\sklearn\\base.py:493: UserWarning: X does not have valid feature names, but MLPClassifier was fitted with feature names\n",
      "  warnings.warn(\n"
     ]
    },
    {
     "ename": "FileNotFoundError",
     "evalue": "[Errno 2] No such file or directory: 'C:\\\\Users\\\\DELL\\\\Downloads\\\\label_encoder.pkl'",
     "output_type": "error",
     "traceback": [
      "\u001b[1;31m---------------------------------------------------------------------------\u001b[0m",
      "\u001b[1;31mFileNotFoundError\u001b[0m                         Traceback (most recent call last)",
      "Cell \u001b[1;32mIn[27], line 39\u001b[0m\n\u001b[0;32m     36\u001b[0m predicted_level \u001b[38;5;241m=\u001b[39m model\u001b[38;5;241m.\u001b[39mpredict([[user_score]])\n\u001b[0;32m     38\u001b[0m \u001b[38;5;66;03m# Optionally load the label encoder if it was saved separately\u001b[39;00m\n\u001b[1;32m---> 39\u001b[0m label_encoder \u001b[38;5;241m=\u001b[39m joblib\u001b[38;5;241m.\u001b[39mload(\u001b[38;5;124mr\u001b[39m\u001b[38;5;124m'\u001b[39m\u001b[38;5;124mC:\u001b[39m\u001b[38;5;124m\\\u001b[39m\u001b[38;5;124mUsers\u001b[39m\u001b[38;5;124m\\\u001b[39m\u001b[38;5;124mDELL\u001b[39m\u001b[38;5;124m\\\u001b[39m\u001b[38;5;124mDownloads\u001b[39m\u001b[38;5;124m\\\u001b[39m\u001b[38;5;124mlabel_encoder.pkl\u001b[39m\u001b[38;5;124m'\u001b[39m)  \u001b[38;5;66;03m# Ensure the label encoder is saved and loaded correctly\u001b[39;00m\n\u001b[0;32m     40\u001b[0m predicted_level_str \u001b[38;5;241m=\u001b[39m label_encoder\u001b[38;5;241m.\u001b[39minverse_transform(predicted_level)\n\u001b[0;32m     42\u001b[0m \u001b[38;5;28mprint\u001b[39m(\u001b[38;5;124mf\u001b[39m\u001b[38;5;124m\"\u001b[39m\u001b[38;5;124mYour predicted level is: \u001b[39m\u001b[38;5;132;01m{\u001b[39;00mpredicted_level_str[\u001b[38;5;241m0\u001b[39m]\u001b[38;5;132;01m}\u001b[39;00m\u001b[38;5;124m\"\u001b[39m)\n",
      "File \u001b[1;32m~\\anaconda3\\Lib\\site-packages\\joblib\\numpy_pickle.py:650\u001b[0m, in \u001b[0;36mload\u001b[1;34m(filename, mmap_mode)\u001b[0m\n\u001b[0;32m    648\u001b[0m         obj \u001b[38;5;241m=\u001b[39m _unpickle(fobj)\n\u001b[0;32m    649\u001b[0m \u001b[38;5;28;01melse\u001b[39;00m:\n\u001b[1;32m--> 650\u001b[0m     \u001b[38;5;28;01mwith\u001b[39;00m \u001b[38;5;28mopen\u001b[39m(filename, \u001b[38;5;124m'\u001b[39m\u001b[38;5;124mrb\u001b[39m\u001b[38;5;124m'\u001b[39m) \u001b[38;5;28;01mas\u001b[39;00m f:\n\u001b[0;32m    651\u001b[0m         \u001b[38;5;28;01mwith\u001b[39;00m _read_fileobject(f, filename, mmap_mode) \u001b[38;5;28;01mas\u001b[39;00m fobj:\n\u001b[0;32m    652\u001b[0m             \u001b[38;5;28;01mif\u001b[39;00m \u001b[38;5;28misinstance\u001b[39m(fobj, \u001b[38;5;28mstr\u001b[39m):\n\u001b[0;32m    653\u001b[0m                 \u001b[38;5;66;03m# if the returned file object is a string, this means we\u001b[39;00m\n\u001b[0;32m    654\u001b[0m                 \u001b[38;5;66;03m# try to load a pickle file generated with an version of\u001b[39;00m\n\u001b[0;32m    655\u001b[0m                 \u001b[38;5;66;03m# Joblib so we load it with joblib compatibility function.\u001b[39;00m\n",
      "\u001b[1;31mFileNotFoundError\u001b[0m: [Errno 2] No such file or directory: 'C:\\\\Users\\\\DELL\\\\Downloads\\\\label_encoder.pkl'"
     ]
    }
   ],
   "source": [
    "import pandas as pd\n",
    "import joblib\n",
    "\n",
    "# Load the saved model\n",
    "model_filename = r\"C:\\Users\\adity\\Downloads\\mlp_model.pkl\"\n",
    "model = joblib.load(model_filename)\n",
    "\n",
    "# Load the dataset\n",
    "file_path = r\"D:\\Virtua-ZigZag-master (1)\\Virtua-ZigZag-master\\PlayerScore.csv\"\n",
    "df = pd.read_csv(file_path)\n",
    "\n",
    "# Print the column names to verify the 'Score' column exists\n",
    "print(df.columns)\n",
    "\n",
    "# Check the first few rows to see the structure of the data\n",
    "print(df.head())\n",
    "\n",
    "# Ensure 'Score' column exists\n",
    "if 'Score' in df.columns:\n",
    "    # Sort the dataset by 'Score' in descending order to rank players\n",
    "    df_sorted = df.sort_values(by='Score', ascending=False)\n",
    "\n",
    "    # Get user input for score\n",
    "    while True:\n",
    "        try:\n",
    "            user_score = float(input(\"Enter your score: \"))\n",
    "            break  # Exit loop if valid score is provided\n",
    "        except ValueError:\n",
    "            print(\"Please enter a valid numeric value for the score.\")\n",
    "\n",
    "    # Find the rank of the user based on their score\n",
    "    rank = (df_sorted['Score'] >= user_score).sum() + 1  # Rank is the number of scores >= user's score + 1\n",
    "    print(f\"Your rank is: {rank} out of {len(df)} players\")\n",
    "\n",
    "    # Predict the level of the user using the model (e.g., 'beginner', 'intermediate')\n",
    "    predicted_level = model.predict([[user_score]])\n",
    "\n",
    "    # Optionally load the label encoder if it was saved separately\n",
    "    label_encoder = joblib.load(r'C:\\Users\\DELL\\Downloads\\label_encoder.pkl')  # Ensure the label encoder is saved and loaded correctly\n",
    "    predicted_level_str = label_encoder.inverse_transform(predicted_level)\n",
    "\n",
    "    print(f\"Your predicted level is: {predicted_level_str[0]}\")\n",
    "else:\n",
    "    print(\"The dataset does not contain a 'Score' column.\")\n"
   ]
  },
  {
   "cell_type": "code",
   "execution_count": 29,
   "id": "658a23d3-84b2-4d5f-9a16-c8d9d799f85d",
   "metadata": {},
   "outputs": [
    {
     "name": "stdout",
     "output_type": "stream",
     "text": [
      "Model and Label Encoder saved successfully.\n"
     ]
    }
   ],
   "source": [
    "import pandas as pd\n",
    "from sklearn.preprocessing import LabelEncoder\n",
    "from sklearn.neural_network import MLPClassifier\n",
    "import joblib\n",
    "\n",
    "# Load the dataset\n",
    "file_path = r\"D:\\Virtua-ZigZag-master (1)\\Virtua-ZigZag-master\\PlayerScore.csv\"\n",
    "df = pd.read_csv(file_path)\n",
    "\n",
    "# Make sure to strip extra spaces in column names\n",
    "df.columns = df.columns.str.strip()\n",
    "\n",
    "# If there is no 'Level' column, create one based on 'Score' column\n",
    "def categorize_player(row):\n",
    "    # Use 'Score' to categorize players (adjust thresholds as necessary)\n",
    "    if row['Score'] >= 30:\n",
    "        return 'advanced'\n",
    "    elif row['Score'] >= 15:\n",
    "        return 'intermediate'\n",
    "    else:\n",
    "        return 'beginner'\n",
    "\n",
    "# Create the 'Level' column based on 'Score'\n",
    "df['Level'] = df.apply(categorize_player, axis=1)\n",
    "\n",
    "# Encode the 'Level' column\n",
    "label_encoder = LabelEncoder()\n",
    "y_encoded = label_encoder.fit_transform(df['Level'])  # Fit and transform the 'Level' column\n",
    "\n",
    "# Features and target variable (only 'Score' is used here as input feature)\n",
    "X = df[['Score']]  # Assuming 'Score' is the only feature you want to use\n",
    "y = y_encoded  # Encoded 'Level' values\n",
    "\n",
    "# Initialize and train the model\n",
    "model = MLPClassifier(random_state=42, max_iter=1000)\n",
    "model.fit(X, y)\n",
    "\n",
    "# Save the model and the label encoder\n",
    "model_filename = r\"C:\\Users\\adity\\Downloads\\mlp_model.pkl\"\n",
    "label_encoder_filename = r\"C:\\Users\\adity\\Downloads\\label_encoder.pkl\"\n",
    "joblib.dump(model, model_filename)\n",
    "joblib.dump(label_encoder, label_encoder_filename)\n",
    "\n",
    "print(\"Model and Label Encoder saved successfully.\")\n"
   ]
  },
  {
   "cell_type": "code",
   "execution_count": 33,
   "id": "e9000b75-1503-4971-867f-36ed6880ed57",
   "metadata": {},
   "outputs": [
    {
     "name": "stdout",
     "output_type": "stream",
     "text": [
      "Columns in dataset: Index(['Player', 'Score'], dtype='object')\n",
      "    Player  Score\n",
      "0  Player1      4\n",
      "1  Player1      4\n",
      "2  Player1      4\n",
      "3  Player1      7\n",
      "4  Player1      1\n"
     ]
    },
    {
     "name": "stdin",
     "output_type": "stream",
     "text": [
      "Enter your score:  8\n"
     ]
    },
    {
     "name": "stdout",
     "output_type": "stream",
     "text": [
      "Your rank is: 938 out of 1007 players\n",
      "Your predicted level is: beginner\n"
     ]
    },
    {
     "name": "stderr",
     "output_type": "stream",
     "text": [
      "C:\\Users\\adity\\anaconda3\\Lib\\site-packages\\sklearn\\base.py:493: UserWarning: X does not have valid feature names, but MLPClassifier was fitted with feature names\n",
      "  warnings.warn(\n"
     ]
    }
   ],
   "source": [
    "import pandas as pd\n",
    "import joblib\n",
    "\n",
    "# Load the saved model and label encoder\n",
    "model_filename = r\"C:\\Users\\adity\\Downloads\\mlp_model.pkl\"\n",
    "label_encoder_filename = r\"C:\\Users\\adity\\Downloads\\label_encoder.pkl\"\n",
    "model = joblib.load(model_filename)\n",
    "label_encoder = joblib.load(label_encoder_filename)\n",
    "\n",
    "# Load the dataset\n",
    "file_path = r\"D:\\Virtua-ZigZag-master (1)\\Virtua-ZigZag-master\\PlayerScore.csv\"\n",
    "df = pd.read_csv(file_path)\n",
    "\n",
    "# Strip extra spaces in column names (if necessary)\n",
    "df.columns = df.columns.str.strip()\n",
    "\n",
    "# Print the column names and check the first few rows\n",
    "print(\"Columns in dataset:\", df.columns)\n",
    "print(df.head())\n",
    "\n",
    "# Ensure 'Score' column exists\n",
    "if 'Score' in df.columns:\n",
    "    # Sort the dataset by 'Score' in descending order to rank players\n",
    "    df_sorted = df.sort_values(by='Score', ascending=False)\n",
    "\n",
    "    # Get user input for score\n",
    "    while True:\n",
    "        try:\n",
    "            user_score = float(input(\"Enter your score: \"))\n",
    "            break  # Exit loop if valid score is provided\n",
    "        except ValueError:\n",
    "            print(\"Please enter a valid numeric value for the score.\")\n",
    "\n",
    "    # Find the rank of the user based on their score\n",
    "    rank = (df_sorted['Score'] >= user_score).sum() + 1  # Rank is the number of scores >= user's score + 1\n",
    "    print(f\"Your rank is: {rank} out of {len(df)} players\")\n",
    "\n",
    "    # Predict the level of the user using the model (e.g., 'beginner', 'intermediate', 'advanced')\n",
    "    predicted_level = model.predict([[user_score]])\n",
    "\n",
    "    # Decode the predicted level (e.g., 'beginner', 'intermediate', 'advanced')\n",
    "    predicted_level_str = label_encoder.inverse_transform(predicted_level)\n",
    "\n",
    "    # Print the predicted level\n",
    "    print(f\"Your predicted level is: {predicted_level_str[0]}\")\n",
    "else:\n",
    "    print(\"The dataset does not contain a 'Score' column.\")\n"
   ]
  },
  {
   "cell_type": "code",
   "execution_count": null,
   "id": "c87b9ebc-f74b-438f-a408-7ca56a419283",
   "metadata": {},
   "outputs": [],
   "source": []
  }
 ],
 "metadata": {
  "kernelspec": {
   "display_name": "Python 3 (ipykernel)",
   "language": "python",
   "name": "python3"
  },
  "language_info": {
   "codemirror_mode": {
    "name": "ipython",
    "version": 3
   },
   "file_extension": ".py",
   "mimetype": "text/x-python",
   "name": "python",
   "nbconvert_exporter": "python",
   "pygments_lexer": "ipython3",
   "version": "3.12.4"
  }
 },
 "nbformat": 4,
 "nbformat_minor": 5
}
